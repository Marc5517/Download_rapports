{
 "cells": [
  {
   "cell_type": "markdown",
   "id": "7c8b03e4",
   "metadata": {},
   "source": [
    "# Downloading PDF-files\n",
    "\n",
    "First it starts with preparations and then it goes through the Data Frame for each PDF-file in it."
   ]
  },
  {
   "cell_type": "code",
   "execution_count": 1,
   "id": "98f59885",
   "metadata": {},
   "outputs": [],
   "source": [
    "# Here's where installations and imports from libraries are.\n",
    "\n",
    "# This one at the top was mentioned in the original program, so I might use it if necessary.\n",
    "#!pip install PyPDF2\n",
    "\n",
    "import pandas as pd\n",
    "#import os\n",
    "import requests\n",
    "#import time"
   ]
  },
  {
   "cell_type": "code",
   "execution_count": 2,
   "id": "d4df93cd",
   "metadata": {},
   "outputs": [],
   "source": [
    "# The excel files are read.\n",
    "\n",
    "#meta_data = pd.read_excel(\"Metadata2006_2016.xlsx\")\n",
    "#GRI = pd.read_excel(\"C:/Users/KOM/Documents/GRI_2017_2020 (1).xlsx\")\n",
    "GRI = pd.read_excel(\"C:/Users/KOM/Documents/GRI_2017_2020 (1).xlsx\")"
   ]
  },
  {
   "cell_type": "code",
   "execution_count": 3,
   "id": "2954cd4e",
   "metadata": {},
   "outputs": [],
   "source": [
    "# Then put into Data Frames, so they are easier to work with and looks more nice.\n",
    "\n",
    "#dfm = pd.DataFrame(meta_data)\n",
    "dfg = pd.DataFrame(GRI)"
   ]
  },
  {
   "cell_type": "code",
   "execution_count": 4,
   "id": "96e1278c",
   "metadata": {},
   "outputs": [],
   "source": [
    "# So we can see the first 5 rows of GRI_2017_2020 (1).xlsx in a Data Frame.\n",
    "\n",
    "#dfg.head(21034)"
   ]
  },
  {
   "cell_type": "code",
   "execution_count": 5,
   "id": "7eb838b5",
   "metadata": {},
   "outputs": [],
   "source": [
    "# To get further info about GRI_2017_2020 (1).xlsx, also a describtion. This was way worse when it wasn't a Data Frame.\n",
    "\n",
    "#print(\"Info\")\n",
    "#print(dfg.info())\n",
    "#print()\n",
    "#print(\"Describtion\")\n",
    "#print(dfg.describe())\n",
    "#print()\n",
    "#print(\"Head\")\n",
    "#print(dfg.head())"
   ]
  },
  {
   "cell_type": "code",
   "execution_count": 6,
   "id": "c5ba55ce",
   "metadata": {},
   "outputs": [],
   "source": [
    "# Just trying to get the ID's of GRI_2017_2020 (1).xlsx and then print it out. \n",
    "# This also shows it's not an integer, but a string/object.\n",
    "\n",
    "#a = dfg.get('BRnum')\n",
    "#print(a)"
   ]
  },
  {
   "cell_type": "code",
   "execution_count": 7,
   "id": "45a85302",
   "metadata": {},
   "outputs": [],
   "source": [
    "# Replacing the NaN with empty space.\n",
    "\n",
    "dfg.fillna('', inplace=True)\n",
    "\n",
    "#dfg.head(21034)"
   ]
  },
  {
   "cell_type": "code",
   "execution_count": 8,
   "id": "35261be6",
   "metadata": {
    "scrolled": false
   },
   "outputs": [],
   "source": [
    "# This one would replace the empty spaces in the Pdf_URL column with a text.\n",
    "#new_dfg['Pdf_URL'] = new_dfg['Pdf_URL'].replace([''],'Report Html Address'\n",
    "\n",
    "# Replaces the empty space with a copy of the value of the column next to it in the same row.\n",
    "#new_dfg.loc[new_dfg['Pdf_URL']=='', 'Pdf_URL'] = new_dfg['Report Html Address']\n",
    "dfg.loc[dfg['Pdf_URL']=='', 'Pdf_URL'] = dfg['Report Html Address']\n",
    "\n",
    "#new_dfg.head(21034)\n",
    "#dfg.head(21034)"
   ]
  },
  {
   "cell_type": "code",
   "execution_count": 9,
   "id": "4cc1c07a",
   "metadata": {},
   "outputs": [],
   "source": [
    "# Testing to see if the persumed value is accurate or not\n",
    "text = 'https://www.awm-muenchen.de/fileadmin/PDF-Dokumente/awm/2016_AWM_Geschaeftsbericht.pdf'\n",
    "\n",
    "assert text == dfg.loc[25,'Pdf_URL'], \"It should be \" + dfg.loc[25,'Pdf_URL']"
   ]
  },
  {
   "cell_type": "code",
   "execution_count": 10,
   "id": "40c96331",
   "metadata": {},
   "outputs": [],
   "source": [
    "# So we can see first 5 rows of the Data Frame of Metadata2006_2016.xlsx.\n",
    "\n",
    "#dfm.head(2075)"
   ]
  },
  {
   "cell_type": "code",
   "execution_count": 11,
   "id": "dd827e1b",
   "metadata": {
    "scrolled": true
   },
   "outputs": [],
   "source": [
    "# To get further info about Metadata2006_2016.xlsx, also a describtion.\n",
    "\n",
    "#print(\"Info\")\n",
    "#print(dfm.info())\n",
    "#print()\n",
    "#print(\"Describtion\")\n",
    "#print(dfm.describe())\n",
    "#print()\n",
    "#print(\"Head\")\n",
    "#print(dfm.head())"
   ]
  },
  {
   "cell_type": "code",
   "execution_count": 12,
   "id": "9c74a3df",
   "metadata": {
    "scrolled": false
   },
   "outputs": [],
   "source": [
    "# Replaces all the 'yes' in Metadata with 'Downloaded'.\n",
    "#dfm['pdf_downloaded'] = dfm['pdf_downloaded'].str.replace('yes','Downloaded')\n",
    "\n",
    "# Replaces all the 404, 'EOF marker not found', 'File has not been decrypted' and '[Errno 22] Invalid argument' with 'Not downloaded'.\n",
    "#dfm['pdf_downloaded'] = dfm['pdf_downloaded'].replace([str(404),'EOF marker not found', 'File has not been decrypted', '[Errno 22] Invalid argument', 'Could not read malformed PDF file'], 'Not Dowloaded')\n",
    "\n",
    "#dfm.head(2075)"
   ]
  },
  {
   "cell_type": "code",
   "execution_count": 13,
   "id": "5076750a",
   "metadata": {},
   "outputs": [],
   "source": [
    "# Testing to see if the persumed value is accurate or not\n",
    "#text = 'Downloaded'\n",
    "\n",
    "#assert text == dfm.loc[3,'pdf_downloaded'], \"It should be \" + dfm.loc[3,'pdf_downloaded']"
   ]
  },
  {
   "cell_type": "code",
   "execution_count": 14,
   "id": "be97b0db",
   "metadata": {},
   "outputs": [],
   "source": [
    "# Making a connection so the PDF files are downloaded the right place on the computer.\n",
    "output_dir = 'C:/Users/KOM/Documents/PDF_Files'"
   ]
  },
  {
   "cell_type": "code",
   "execution_count": 15,
   "id": "8ac86e31",
   "metadata": {},
   "outputs": [],
   "source": [
    "# Making a data frame with the Pdf_URLs and BRnum, but it tells if the file was downloaded or not.\n",
    "check_GRI = pd.DataFrame()\n",
    "check_GRI['BRnum'] = []\n",
    "check_GRI['Pdf_URL'] = []\n",
    "check_GRI['downloaded?'] = []\n",
    "\n",
    "#print(check_GRI)"
   ]
  },
  {
   "cell_type": "code",
   "execution_count": 16,
   "id": "04696cbf",
   "metadata": {
    "scrolled": true
   },
   "outputs": [
    {
     "name": "stderr",
     "output_type": "stream",
     "text": [
      "C:\\Users\\KOM\\AppData\\Local\\Temp\\ipykernel_5424\\845984795.py:6: FutureWarning: The frame.append method is deprecated and will be removed from pandas in a future version. Use pandas.concat instead.\n",
      "  check_GRI = check_GRI.append({'BRnum' : e['BRnum'], 'Pdf_URL' : e['Pdf_URL']}, ignore_index = True)\n",
      "C:\\Users\\KOM\\AppData\\Local\\Temp\\ipykernel_5424\\845984795.py:6: FutureWarning: The frame.append method is deprecated and will be removed from pandas in a future version. Use pandas.concat instead.\n",
      "  check_GRI = check_GRI.append({'BRnum' : e['BRnum'], 'Pdf_URL' : e['Pdf_URL']}, ignore_index = True)\n",
      "C:\\Users\\KOM\\AppData\\Local\\Temp\\ipykernel_5424\\845984795.py:6: FutureWarning: The frame.append method is deprecated and will be removed from pandas in a future version. Use pandas.concat instead.\n",
      "  check_GRI = check_GRI.append({'BRnum' : e['BRnum'], 'Pdf_URL' : e['Pdf_URL']}, ignore_index = True)\n",
      "C:\\Users\\KOM\\AppData\\Local\\Temp\\ipykernel_5424\\845984795.py:6: FutureWarning: The frame.append method is deprecated and will be removed from pandas in a future version. Use pandas.concat instead.\n",
      "  check_GRI = check_GRI.append({'BRnum' : e['BRnum'], 'Pdf_URL' : e['Pdf_URL']}, ignore_index = True)\n",
      "C:\\Users\\KOM\\AppData\\Local\\Temp\\ipykernel_5424\\845984795.py:6: FutureWarning: The frame.append method is deprecated and will be removed from pandas in a future version. Use pandas.concat instead.\n",
      "  check_GRI = check_GRI.append({'BRnum' : e['BRnum'], 'Pdf_URL' : e['Pdf_URL']}, ignore_index = True)\n",
      "C:\\Users\\KOM\\AppData\\Local\\Temp\\ipykernel_5424\\845984795.py:6: FutureWarning: The frame.append method is deprecated and will be removed from pandas in a future version. Use pandas.concat instead.\n",
      "  check_GRI = check_GRI.append({'BRnum' : e['BRnum'], 'Pdf_URL' : e['Pdf_URL']}, ignore_index = True)\n",
      "C:\\Users\\KOM\\AppData\\Local\\Temp\\ipykernel_5424\\845984795.py:6: FutureWarning: The frame.append method is deprecated and will be removed from pandas in a future version. Use pandas.concat instead.\n",
      "  check_GRI = check_GRI.append({'BRnum' : e['BRnum'], 'Pdf_URL' : e['Pdf_URL']}, ignore_index = True)\n",
      "C:\\Users\\KOM\\AppData\\Local\\Temp\\ipykernel_5424\\845984795.py:6: FutureWarning: The frame.append method is deprecated and will be removed from pandas in a future version. Use pandas.concat instead.\n",
      "  check_GRI = check_GRI.append({'BRnum' : e['BRnum'], 'Pdf_URL' : e['Pdf_URL']}, ignore_index = True)\n",
      "C:\\Users\\KOM\\AppData\\Local\\Temp\\ipykernel_5424\\845984795.py:6: FutureWarning: The frame.append method is deprecated and will be removed from pandas in a future version. Use pandas.concat instead.\n",
      "  check_GRI = check_GRI.append({'BRnum' : e['BRnum'], 'Pdf_URL' : e['Pdf_URL']}, ignore_index = True)\n",
      "C:\\Users\\KOM\\AppData\\Local\\Temp\\ipykernel_5424\\845984795.py:6: FutureWarning: The frame.append method is deprecated and will be removed from pandas in a future version. Use pandas.concat instead.\n",
      "  check_GRI = check_GRI.append({'BRnum' : e['BRnum'], 'Pdf_URL' : e['Pdf_URL']}, ignore_index = True)\n",
      "C:\\Users\\KOM\\AppData\\Local\\Temp\\ipykernel_5424\\845984795.py:6: FutureWarning: The frame.append method is deprecated and will be removed from pandas in a future version. Use pandas.concat instead.\n",
      "  check_GRI = check_GRI.append({'BRnum' : e['BRnum'], 'Pdf_URL' : e['Pdf_URL']}, ignore_index = True)\n",
      "C:\\Users\\KOM\\AppData\\Local\\Temp\\ipykernel_5424\\845984795.py:6: FutureWarning: The frame.append method is deprecated and will be removed from pandas in a future version. Use pandas.concat instead.\n",
      "  check_GRI = check_GRI.append({'BRnum' : e['BRnum'], 'Pdf_URL' : e['Pdf_URL']}, ignore_index = True)\n",
      "C:\\Users\\KOM\\AppData\\Local\\Temp\\ipykernel_5424\\845984795.py:6: FutureWarning: The frame.append method is deprecated and will be removed from pandas in a future version. Use pandas.concat instead.\n",
      "  check_GRI = check_GRI.append({'BRnum' : e['BRnum'], 'Pdf_URL' : e['Pdf_URL']}, ignore_index = True)\n",
      "C:\\Users\\KOM\\AppData\\Local\\Temp\\ipykernel_5424\\845984795.py:6: FutureWarning: The frame.append method is deprecated and will be removed from pandas in a future version. Use pandas.concat instead.\n",
      "  check_GRI = check_GRI.append({'BRnum' : e['BRnum'], 'Pdf_URL' : e['Pdf_URL']}, ignore_index = True)\n",
      "C:\\Users\\KOM\\AppData\\Local\\Temp\\ipykernel_5424\\845984795.py:6: FutureWarning: The frame.append method is deprecated and will be removed from pandas in a future version. Use pandas.concat instead.\n",
      "  check_GRI = check_GRI.append({'BRnum' : e['BRnum'], 'Pdf_URL' : e['Pdf_URL']}, ignore_index = True)\n",
      "C:\\Users\\KOM\\AppData\\Local\\Temp\\ipykernel_5424\\845984795.py:6: FutureWarning: The frame.append method is deprecated and will be removed from pandas in a future version. Use pandas.concat instead.\n",
      "  check_GRI = check_GRI.append({'BRnum' : e['BRnum'], 'Pdf_URL' : e['Pdf_URL']}, ignore_index = True)\n",
      "C:\\Users\\KOM\\AppData\\Local\\Temp\\ipykernel_5424\\845984795.py:6: FutureWarning: The frame.append method is deprecated and will be removed from pandas in a future version. Use pandas.concat instead.\n",
      "  check_GRI = check_GRI.append({'BRnum' : e['BRnum'], 'Pdf_URL' : e['Pdf_URL']}, ignore_index = True)\n",
      "C:\\Users\\KOM\\AppData\\Local\\Temp\\ipykernel_5424\\845984795.py:6: FutureWarning: The frame.append method is deprecated and will be removed from pandas in a future version. Use pandas.concat instead.\n",
      "  check_GRI = check_GRI.append({'BRnum' : e['BRnum'], 'Pdf_URL' : e['Pdf_URL']}, ignore_index = True)\n",
      "C:\\Users\\KOM\\AppData\\Local\\Temp\\ipykernel_5424\\845984795.py:6: FutureWarning: The frame.append method is deprecated and will be removed from pandas in a future version. Use pandas.concat instead.\n",
      "  check_GRI = check_GRI.append({'BRnum' : e['BRnum'], 'Pdf_URL' : e['Pdf_URL']}, ignore_index = True)\n",
      "C:\\Users\\KOM\\AppData\\Local\\Temp\\ipykernel_5424\\845984795.py:6: FutureWarning: The frame.append method is deprecated and will be removed from pandas in a future version. Use pandas.concat instead.\n",
      "  check_GRI = check_GRI.append({'BRnum' : e['BRnum'], 'Pdf_URL' : e['Pdf_URL']}, ignore_index = True)\n",
      "C:\\Users\\KOM\\AppData\\Local\\Temp\\ipykernel_5424\\845984795.py:6: FutureWarning: The frame.append method is deprecated and will be removed from pandas in a future version. Use pandas.concat instead.\n",
      "  check_GRI = check_GRI.append({'BRnum' : e['BRnum'], 'Pdf_URL' : e['Pdf_URL']}, ignore_index = True)\n",
      "C:\\Users\\KOM\\AppData\\Local\\Temp\\ipykernel_5424\\845984795.py:6: FutureWarning: The frame.append method is deprecated and will be removed from pandas in a future version. Use pandas.concat instead.\n",
      "  check_GRI = check_GRI.append({'BRnum' : e['BRnum'], 'Pdf_URL' : e['Pdf_URL']}, ignore_index = True)\n",
      "C:\\Users\\KOM\\AppData\\Local\\Temp\\ipykernel_5424\\845984795.py:6: FutureWarning: The frame.append method is deprecated and will be removed from pandas in a future version. Use pandas.concat instead.\n",
      "  check_GRI = check_GRI.append({'BRnum' : e['BRnum'], 'Pdf_URL' : e['Pdf_URL']}, ignore_index = True)\n",
      "C:\\Users\\KOM\\AppData\\Local\\Temp\\ipykernel_5424\\845984795.py:6: FutureWarning: The frame.append method is deprecated and will be removed from pandas in a future version. Use pandas.concat instead.\n",
      "  check_GRI = check_GRI.append({'BRnum' : e['BRnum'], 'Pdf_URL' : e['Pdf_URL']}, ignore_index = True)\n",
      "C:\\Users\\KOM\\AppData\\Local\\Temp\\ipykernel_5424\\845984795.py:6: FutureWarning: The frame.append method is deprecated and will be removed from pandas in a future version. Use pandas.concat instead.\n",
      "  check_GRI = check_GRI.append({'BRnum' : e['BRnum'], 'Pdf_URL' : e['Pdf_URL']}, ignore_index = True)\n",
      "C:\\Users\\KOM\\AppData\\Local\\Temp\\ipykernel_5424\\845984795.py:6: FutureWarning: The frame.append method is deprecated and will be removed from pandas in a future version. Use pandas.concat instead.\n",
      "  check_GRI = check_GRI.append({'BRnum' : e['BRnum'], 'Pdf_URL' : e['Pdf_URL']}, ignore_index = True)\n",
      "C:\\Users\\KOM\\AppData\\Local\\Temp\\ipykernel_5424\\845984795.py:6: FutureWarning: The frame.append method is deprecated and will be removed from pandas in a future version. Use pandas.concat instead.\n",
      "  check_GRI = check_GRI.append({'BRnum' : e['BRnum'], 'Pdf_URL' : e['Pdf_URL']}, ignore_index = True)\n",
      "C:\\Users\\KOM\\AppData\\Local\\Temp\\ipykernel_5424\\845984795.py:6: FutureWarning: The frame.append method is deprecated and will be removed from pandas in a future version. Use pandas.concat instead.\n",
      "  check_GRI = check_GRI.append({'BRnum' : e['BRnum'], 'Pdf_URL' : e['Pdf_URL']}, ignore_index = True)\n",
      "C:\\Users\\KOM\\AppData\\Local\\Temp\\ipykernel_5424\\845984795.py:6: FutureWarning: The frame.append method is deprecated and will be removed from pandas in a future version. Use pandas.concat instead.\n",
      "  check_GRI = check_GRI.append({'BRnum' : e['BRnum'], 'Pdf_URL' : e['Pdf_URL']}, ignore_index = True)\n",
      "C:\\Users\\KOM\\AppData\\Local\\Temp\\ipykernel_5424\\845984795.py:6: FutureWarning: The frame.append method is deprecated and will be removed from pandas in a future version. Use pandas.concat instead.\n",
      "  check_GRI = check_GRI.append({'BRnum' : e['BRnum'], 'Pdf_URL' : e['Pdf_URL']}, ignore_index = True)\n",
      "C:\\Users\\KOM\\AppData\\Local\\Temp\\ipykernel_5424\\845984795.py:6: FutureWarning: The frame.append method is deprecated and will be removed from pandas in a future version. Use pandas.concat instead.\n",
      "  check_GRI = check_GRI.append({'BRnum' : e['BRnum'], 'Pdf_URL' : e['Pdf_URL']}, ignore_index = True)\n",
      "C:\\Users\\KOM\\AppData\\Local\\Temp\\ipykernel_5424\\845984795.py:6: FutureWarning: The frame.append method is deprecated and will be removed from pandas in a future version. Use pandas.concat instead.\n",
      "  check_GRI = check_GRI.append({'BRnum' : e['BRnum'], 'Pdf_URL' : e['Pdf_URL']}, ignore_index = True)\n",
      "C:\\Users\\KOM\\AppData\\Local\\Temp\\ipykernel_5424\\845984795.py:6: FutureWarning: The frame.append method is deprecated and will be removed from pandas in a future version. Use pandas.concat instead.\n",
      "  check_GRI = check_GRI.append({'BRnum' : e['BRnum'], 'Pdf_URL' : e['Pdf_URL']}, ignore_index = True)\n",
      "C:\\Users\\KOM\\AppData\\Local\\Temp\\ipykernel_5424\\845984795.py:6: FutureWarning: The frame.append method is deprecated and will be removed from pandas in a future version. Use pandas.concat instead.\n",
      "  check_GRI = check_GRI.append({'BRnum' : e['BRnum'], 'Pdf_URL' : e['Pdf_URL']}, ignore_index = True)\n",
      "C:\\Users\\KOM\\AppData\\Local\\Temp\\ipykernel_5424\\845984795.py:6: FutureWarning: The frame.append method is deprecated and will be removed from pandas in a future version. Use pandas.concat instead.\n",
      "  check_GRI = check_GRI.append({'BRnum' : e['BRnum'], 'Pdf_URL' : e['Pdf_URL']}, ignore_index = True)\n",
      "C:\\Users\\KOM\\AppData\\Local\\Temp\\ipykernel_5424\\845984795.py:6: FutureWarning: The frame.append method is deprecated and will be removed from pandas in a future version. Use pandas.concat instead.\n",
      "  check_GRI = check_GRI.append({'BRnum' : e['BRnum'], 'Pdf_URL' : e['Pdf_URL']}, ignore_index = True)\n",
      "C:\\Users\\KOM\\AppData\\Local\\Temp\\ipykernel_5424\\845984795.py:6: FutureWarning: The frame.append method is deprecated and will be removed from pandas in a future version. Use pandas.concat instead.\n",
      "  check_GRI = check_GRI.append({'BRnum' : e['BRnum'], 'Pdf_URL' : e['Pdf_URL']}, ignore_index = True)\n",
      "C:\\Users\\KOM\\AppData\\Local\\Temp\\ipykernel_5424\\845984795.py:6: FutureWarning: The frame.append method is deprecated and will be removed from pandas in a future version. Use pandas.concat instead.\n",
      "  check_GRI = check_GRI.append({'BRnum' : e['BRnum'], 'Pdf_URL' : e['Pdf_URL']}, ignore_index = True)\n",
      "C:\\Users\\KOM\\AppData\\Local\\Temp\\ipykernel_5424\\845984795.py:6: FutureWarning: The frame.append method is deprecated and will be removed from pandas in a future version. Use pandas.concat instead.\n",
      "  check_GRI = check_GRI.append({'BRnum' : e['BRnum'], 'Pdf_URL' : e['Pdf_URL']}, ignore_index = True)\n",
      "C:\\Users\\KOM\\AppData\\Local\\Temp\\ipykernel_5424\\845984795.py:6: FutureWarning: The frame.append method is deprecated and will be removed from pandas in a future version. Use pandas.concat instead.\n",
      "  check_GRI = check_GRI.append({'BRnum' : e['BRnum'], 'Pdf_URL' : e['Pdf_URL']}, ignore_index = True)\n",
      "C:\\Users\\KOM\\AppData\\Local\\Temp\\ipykernel_5424\\845984795.py:6: FutureWarning: The frame.append method is deprecated and will be removed from pandas in a future version. Use pandas.concat instead.\n",
      "  check_GRI = check_GRI.append({'BRnum' : e['BRnum'], 'Pdf_URL' : e['Pdf_URL']}, ignore_index = True)\n",
      "C:\\Users\\KOM\\AppData\\Local\\Temp\\ipykernel_5424\\845984795.py:6: FutureWarning: The frame.append method is deprecated and will be removed from pandas in a future version. Use pandas.concat instead.\n",
      "  check_GRI = check_GRI.append({'BRnum' : e['BRnum'], 'Pdf_URL' : e['Pdf_URL']}, ignore_index = True)\n",
      "C:\\Users\\KOM\\AppData\\Local\\Temp\\ipykernel_5424\\845984795.py:6: FutureWarning: The frame.append method is deprecated and will be removed from pandas in a future version. Use pandas.concat instead.\n",
      "  check_GRI = check_GRI.append({'BRnum' : e['BRnum'], 'Pdf_URL' : e['Pdf_URL']}, ignore_index = True)\n",
      "C:\\Users\\KOM\\AppData\\Local\\Temp\\ipykernel_5424\\845984795.py:6: FutureWarning: The frame.append method is deprecated and will be removed from pandas in a future version. Use pandas.concat instead.\n",
      "  check_GRI = check_GRI.append({'BRnum' : e['BRnum'], 'Pdf_URL' : e['Pdf_URL']}, ignore_index = True)\n",
      "C:\\Users\\KOM\\AppData\\Local\\Temp\\ipykernel_5424\\845984795.py:6: FutureWarning: The frame.append method is deprecated and will be removed from pandas in a future version. Use pandas.concat instead.\n",
      "  check_GRI = check_GRI.append({'BRnum' : e['BRnum'], 'Pdf_URL' : e['Pdf_URL']}, ignore_index = True)\n",
      "C:\\Users\\KOM\\AppData\\Local\\Temp\\ipykernel_5424\\845984795.py:6: FutureWarning: The frame.append method is deprecated and will be removed from pandas in a future version. Use pandas.concat instead.\n",
      "  check_GRI = check_GRI.append({'BRnum' : e['BRnum'], 'Pdf_URL' : e['Pdf_URL']}, ignore_index = True)\n",
      "C:\\Users\\KOM\\AppData\\Local\\Temp\\ipykernel_5424\\845984795.py:6: FutureWarning: The frame.append method is deprecated and will be removed from pandas in a future version. Use pandas.concat instead.\n",
      "  check_GRI = check_GRI.append({'BRnum' : e['BRnum'], 'Pdf_URL' : e['Pdf_URL']}, ignore_index = True)\n",
      "C:\\Users\\KOM\\AppData\\Local\\Temp\\ipykernel_5424\\845984795.py:6: FutureWarning: The frame.append method is deprecated and will be removed from pandas in a future version. Use pandas.concat instead.\n",
      "  check_GRI = check_GRI.append({'BRnum' : e['BRnum'], 'Pdf_URL' : e['Pdf_URL']}, ignore_index = True)\n",
      "C:\\Users\\KOM\\AppData\\Local\\Temp\\ipykernel_5424\\845984795.py:6: FutureWarning: The frame.append method is deprecated and will be removed from pandas in a future version. Use pandas.concat instead.\n",
      "  check_GRI = check_GRI.append({'BRnum' : e['BRnum'], 'Pdf_URL' : e['Pdf_URL']}, ignore_index = True)\n",
      "C:\\Users\\KOM\\AppData\\Local\\Temp\\ipykernel_5424\\845984795.py:6: FutureWarning: The frame.append method is deprecated and will be removed from pandas in a future version. Use pandas.concat instead.\n",
      "  check_GRI = check_GRI.append({'BRnum' : e['BRnum'], 'Pdf_URL' : e['Pdf_URL']}, ignore_index = True)\n"
     ]
    }
   ],
   "source": [
    "# This loop is where the magic happens.\n",
    "for index, e in dfg.iterrows():\n",
    "    if index < 50:\n",
    "        try:\n",
    "            # First it appends the BRnumber and link to the PDF from dfg to check_GRI\n",
    "            check_GRI = check_GRI.append({'BRnum' : e['BRnum'], 'Pdf_URL' : e['Pdf_URL']}, ignore_index = True)\n",
    "            # It gets a response from the URL from the PDF, and if the response works, is only 200, it ends with '.pdf', and the content type ends with 'pdf', the loop starts.\n",
    "            # It's also set to a timeout if 5 seconds passes.\n",
    "            response = requests.get(e['Pdf_URL'], timeout = 5)\n",
    "            if (response.status_code == 200) and (e['Pdf_URL'].endswith('.pdf')) and (response.headers['Content-Type'].startswith('application/pd')):\n",
    "                dst = output_dir + '/' + e['BRnum'] + '.pdf'\n",
    "                # Here the content of the file is inserted and named as its BRnumber.\n",
    "                with open(dst, 'wb') as f:\n",
    "                    f.write(response.content)\n",
    "                    # And changes the value in 'downloaded?' in the current index to 'Downloaded'.\n",
    "                    check_GRI.loc[index,'downloaded?'] = 'Downloaded'\n",
    "            # If the conditions are not met, the loop goes through the second column, and does almost the same as the one above.\n",
    "            else:\n",
    "                response = requests.get(e['Report Html Address'], timeout = 5)\n",
    "                if (response.status_code == 200) and (e['Report Html Address'].endswith('.pdf')) and (response.headers['Content-Type'].startswith('application/pd')):\n",
    "                    dst = output_dir + '/' + e['BRnum'] + 'r.pdf'\n",
    "                    with open(dst, 'wb') as f:\n",
    "                            f.write(response.content)\n",
    "                            check_GRI.loc[index,'Pdf_URL'] = e['Report Html Address']\n",
    "                            check_GRI.loc[index,'downloaded?'] = 'Downloaded'\n",
    "                else: \n",
    "                    check_GRI.loc[index,'downloaded?'] = 'Not Downloaded'\n",
    "        # If there comes an error in the reading, it'll usually either try with second column or the 'downloaded' will be 'Not Downloaded'\n",
    "        except requests.exceptions.RequestException as error:\n",
    "            #print(\"Error in \" + e['BRnum'] + \" : \", error)\n",
    "            try:\n",
    "                # It gets a response from the URL from the PDF, and if the response works, is only 200, it ends with '.pdf', and the content type ends with 'pdf', the loop starts.\n",
    "                response = requests.get(e['Report Html Address'], timeout = 5)\n",
    "                if (response.status_code == 200) and (e['Report Html Address'].endswith('.pdf')) and (response.headers['Content-Type'].startswith('application/pd')):\n",
    "                    #If it meets the conditions, then the URL will be replaced by the value next to it.\n",
    "                    check_GRI.loc[index,'Pdf_URL'] = e['Report Html Address']\n",
    "                    dst = output_dir + '/' + e['BRnum'] + 'r.pdf'\n",
    "                    # Here the content of the file is inserted and named as its BRnumber.\n",
    "                    with open(dst, 'wb') as f:\n",
    "                        f.write(response.content)\n",
    "                        check_GRI.loc[index,'downloaded?'] = 'Downloaded'\n",
    "                else:\n",
    "                    check_GRI.loc[index,'downloaded?'] = 'Not Downloaded'\n",
    "            except requests.exceptions.RequestException as error:\n",
    "                check_GRI.loc[index,'downloaded?'] = 'Not Downloaded'\n",
    "                #print(\"Error in \" + e['BRnum'] + \" : \", error)\n",
    "            # When the time runs out on a Pdf file it stops there but is still downloaded.\n",
    "            except requests.exceptions.ConnectTimeout:\n",
    "                check_GRI.loc[index,'downloaded?'] = 'Downloaded'\n",
    "        except requests.exceptions.ConnectTimeout:\n",
    "            check_GRI.loc[index,'downloaded?'] = 'Downloaded'"
   ]
  },
  {
   "cell_type": "code",
   "execution_count": 17,
   "id": "a333c636",
   "metadata": {
    "scrolled": true
   },
   "outputs": [],
   "source": [
    "#check_GRI.fillna('Not Downloaded', inplace=True)\n",
    "\n",
    "#print(check_GRI)"
   ]
  },
  {
   "cell_type": "code",
   "execution_count": 18,
   "id": "183a0f3d",
   "metadata": {},
   "outputs": [],
   "source": [
    "# Testing to see if the persumed value is accurate or not\n",
    "text = 'Downloaded'\n",
    "\n",
    "assert text == check_GRI.loc[19,'downloaded?'], \"It should be \" + check_GRI.loc[19,'downloaded?']"
   ]
  },
  {
   "cell_type": "code",
   "execution_count": 19,
   "id": "c019e6cb",
   "metadata": {},
   "outputs": [],
   "source": [
    "# Converts the Data Frame into an excel file.\n",
    "check_GRI.to_excel('C:/Users/KOM/Documents/check_GRI.xlsx', index = False)"
   ]
  }
 ],
 "metadata": {
  "kernelspec": {
   "display_name": "Python 3 (ipykernel)",
   "language": "python",
   "name": "python3"
  },
  "language_info": {
   "codemirror_mode": {
    "name": "ipython",
    "version": 3
   },
   "file_extension": ".py",
   "mimetype": "text/x-python",
   "name": "python",
   "nbconvert_exporter": "python",
   "pygments_lexer": "ipython3",
   "version": "3.9.12"
  }
 },
 "nbformat": 4,
 "nbformat_minor": 5
}
